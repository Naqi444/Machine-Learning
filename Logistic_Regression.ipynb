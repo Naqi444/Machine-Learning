{
 "cells": [
  {
   "cell_type": "markdown",
   "metadata": {},
   "source": [
    "<h1> Homework 4 </h1>\n",
    "<h2> Logistic regression </h2>"
   ]
  },
  {
   "cell_type": "markdown",
   "metadata": {},
   "source": [
    "<h3> Importing necesscary libraries </h3>"
   ]
  },
  {
   "cell_type": "code",
   "execution_count": 44,
   "metadata": {},
   "outputs": [],
   "source": [
    "import pandas as pd\n",
    "import numpy as np\n",
    "import math\n",
    "import sys, pickle\n",
    "from sklearn.preprocessing import MinMaxScaler\n",
    "import matplotlib.pyplot as plt"
   ]
  },
  {
   "cell_type": "markdown",
   "metadata": {},
   "source": [
    "<h3>Defining Class Log Regression</h3>"
   ]
  },
  {
   "cell_type": "code",
   "execution_count": 45,
   "metadata": {},
   "outputs": [],
   "source": [
    "class LogReg:\n",
    "    def __init__(self,input,label,alpha=0.05,epoch=15,lamb = 0):\n",
    "        self.input = input\n",
    "        self.alpha = alpha\n",
    "        self.epoch = epoch\n",
    "        self.label = label\n",
    "        self.weights = 0\n",
    "        self.lamb = lamb\n",
    "        \n",
    "    #pre process data\n",
    "\n",
    "    def processData(self):\n",
    "\n",
    "        k1=self.input.to_numpy()\n",
    "        k2=self.label.to_numpy()\n",
    "        k=[]\n",
    "        X=[]\n",
    "        Y=[]\n",
    "        temp=[]\n",
    "        for i in range(k1.size):\n",
    "            k.append(k1[i][0].split(' '))\n",
    "        # print(k[1])\n",
    "\n",
    "        #Converting each string in the input data and lable data to list of integer\n",
    "        for i in range(len(k)):\n",
    "            X.append(list(map(int,k[i])))\n",
    "            Y.append(list(map(int,k2[i])))\n",
    "\n",
    "        #Converting the labels to binary\n",
    "        for i in range(len(Y)):\n",
    "            if (Y[i][0] == 8):\n",
    "                Y[i][0]=1\n",
    "            else:\n",
    "                Y[i][0]=0\n",
    "        \n",
    "\n",
    "        #Appending 1 to each input X for compensating for bias term\n",
    "        for i in range(len(k)):\n",
    "            X[i].append(1)\n",
    "    \n",
    "\n",
    "        #Converting the input X from list of lists to a numpy array\n",
    "        X=np.array(X)\n",
    "        return X,Y\n",
    "\n",
    "    \n",
    "    #Define train function\n",
    "    def train(self):\n",
    "\n",
    "        X,Y = self.processData()\n",
    "\n",
    "        #Declaring intital weight vectors for each of the class = 8\n",
    "        w=np.zeros((1,len(X[0])))        \n",
    "    \n",
    "        #Training code\n",
    "        for epo in range(self.epoch):\n",
    "            g = np.zeros((1,len(X[0])))\n",
    "            for i in range(10000):\n",
    "                try:\n",
    "                    p = 1/(1+np.exp(w.dot(-1*(X[i]))))\n",
    "                except OverflowError:\n",
    "                    p=0\n",
    "                error = Y[i][0]-p\n",
    "                g = np.add(g  ,((error*X[i])) - 2 * self.lamb * w)\n",
    "            w = np.add(w,self.alpha*g) \n",
    "\n",
    "        with open('lr_weight_vector.pkl','wb') as outFile:\n",
    "            pickle.dump(w,outFile)\n",
    "        self.weights=w\n",
    "\n",
    "\n",
    "    def plotimage(self,imageInterpolationType='nearest'):\n",
    "        w=np.multiply(self.weights,-1)\n",
    "        w = np.delete(w, 784)\n",
    "        w=np.reshape(w,(-1,1))\n",
    "        scaler = MinMaxScaler(feature_range=(0,255), copy=True)\n",
    "        wScaled = scaler.fit_transform(w) \n",
    "        pixelMap = wScaled.reshape((28,28))\n",
    "        fig, ax =plt.subplots(figsize=(2,2))\n",
    "        ax.imshow(pixelMap, cmap='gray', interpolation=imageInterpolationType)\n",
    "        plt.savefig('weightVector_pixelMap_'+imageInterpolationType+'.png')\n",
    "        plt.show()\n",
    "\n",
    "        \n",
    "    def test(self):\n",
    "        correctPredictions = 0.\n",
    "        prediction =1\n",
    "        X,Y = self.processData()\n",
    "        for index in range(10000):\n",
    "            try:\n",
    "                p = 1/(1+np.exp((self.weights.dot(-1*X[index]))))\n",
    "            except OverflowError:\n",
    "                p=0\n",
    "            if p>0.5: prediction = 1\n",
    "            else:\n",
    "                prediction=0\n",
    "            if Y[index][0] - prediction == 0: correctPredictions+=1\n",
    "        return (correctPredictions/10000)"
   ]
  },
  {
   "cell_type": "code",
   "execution_count": 46,
   "metadata": {
    "scrolled": true
   },
   "outputs": [
    {
     "name": "stderr",
     "output_type": "stream",
     "text": [
      "C:\\Users\\hussa\\anaconda3\\lib\\site-packages\\ipykernel_launcher.py:62: RuntimeWarning: overflow encountered in exp\n",
      "C:\\Users\\hussa\\anaconda3\\lib\\site-packages\\ipykernel_launcher.py:94: RuntimeWarning: overflow encountered in exp\n"
     ]
    },
    {
     "name": "stdout",
     "output_type": "stream",
     "text": [
      "Accuracy = 0.9049\n"
     ]
    },
    {
     "data": {
      "image/png": "[encoded data removed]",
      "text/plain": [
       "<Figure size 144x144 with 1 Axes>"
      ]
     },
     "metadata": {
      "needs_background": "light"
     },
     "output_type": "display_data"
    }
   ],
   "source": [
    "if __name__ == \"__main__\":\n",
    "    input = pd.read_csv(\"inputhw4.csv\",header=None)\n",
    "    label = pd.read_csv(\"Mnist_labels.csv\",header=None)\n",
    "    log1 = LogReg(input,label,0.05,15)\n",
    "    log1.train()\n",
    "    print('Accuracy = ' +str(log1.test()))\n",
    "    log1.plotimage('bilinear')"
   ]
  },
  {
   "cell_type": "markdown",
   "metadata": {},
   "source": [
    "<p><b> One can notice a pattern forming the number 8 in the above plot. On comparing the weight vector with the plot I notice that largest weight are mapped to black pixels and smallest weights are mapped tp white pixels and values in between (mostly zeros) are mapped to grey pixels. This way my weights are able to learn a pattern for the number 8. </b> </p>"
   ]
  },
  {
   "cell_type": "code",
   "execution_count": 33,
   "metadata": {
    "scrolled": true
   },
   "outputs": [
    {
     "name": "stderr",
     "output_type": "stream",
     "text": [
      "C:\\Users\\hussa\\anaconda3\\lib\\site-packages\\ipykernel_launcher.py:64: RuntimeWarning: overflow encountered in exp\n",
      "C:\\Users\\hussa\\anaconda3\\lib\\site-packages\\ipykernel_launcher.py:99: RuntimeWarning: overflow encountered in exp\n"
     ]
    },
    {
     "name": "stdout",
     "output_type": "stream",
     "text": [
      "0.9049\n",
      "0.9026\n",
      "0.9026\n",
      "0.9026\n",
      "0.9026\n",
      "0.9026\n",
      "0.9026\n",
      "0.9026\n",
      "0.9026\n",
      "0.9026\n",
      "0.9026\n",
      "0.9026\n",
      "0.9026\n",
      "0.9026\n",
      "0.9026\n",
      "0.9026\n"
     ]
    }
   ],
   "source": [
    "accu_list = []\n",
    "lamb_list = [0,0.001, 0.005, 0.01, 0.05, 0.1, 0.5, 1, 5, 10, 50, 100, 500, 1000, 5000, 10000]\n",
    "for l in lamb_list:\n",
    "    log = LogReg(input,label,0.05,15,l)\n",
    "    log.train()\n",
    "    print(log.test())\n",
    "    accu_list.append(log.test())"
   ]
  },
  {
   "cell_type": "code",
   "execution_count": 34,
   "metadata": {},
   "outputs": [
    {
     "data": {
      "text/plain": [
       "([<matplotlib.axis.XTick at 0x182cfe89448>,\n",
       "  <matplotlib.axis.XTick at 0x182df599ec8>,\n",
       "  <matplotlib.axis.XTick at 0x182df399208>,\n",
       "  <matplotlib.axis.XTick at 0x182e45f6c88>,\n",
       "  <matplotlib.axis.XTick at 0x182e4604148>,\n",
       "  <matplotlib.axis.XTick at 0x182e45f8288>,\n",
       "  <matplotlib.axis.XTick at 0x182e4605608>,\n",
       "  <matplotlib.axis.XTick at 0x182df358d08>,\n",
       "  <matplotlib.axis.XTick at 0x182e45ff4c8>,\n",
       "  <matplotlib.axis.XTick at 0x182e45faa48>,\n",
       "  <matplotlib.axis.XTick at 0x182e4607188>,\n",
       "  <matplotlib.axis.XTick at 0x182e46096c8>,\n",
       "  <matplotlib.axis.XTick at 0x182e460ab08>,\n",
       "  <matplotlib.axis.XTick at 0x182e460c588>,\n",
       "  <matplotlib.axis.XTick at 0x182e460bb48>,\n",
       "  <matplotlib.axis.XTick at 0x182e460e148>],\n",
       " <a list of 16 Text xticklabel objects>)"
      ]
     },
     "execution_count": 34,
     "metadata": {},
     "output_type": "execute_result"
    },
    {
     "data": {
      "image/png": "[encoded data removed]",
      "text/plain": [
       "<Figure size 432x288 with 1 Axes>"
      ]
     },
     "metadata": {
      "needs_background": "light"
     },
     "output_type": "display_data"
    }
   ],
   "source": [
    "plt.plot(range(len(accu_list)),accu_list)\n",
    "plt.xlabel('lambda')\n",
    "plt.ylabel('Accuracy')\n",
    "plt.xticks(np.arange(len(accu_list)), lamb_list)"
   ]
  },
  {
   "cell_type": "markdown",
   "metadata": {},
   "source": [
    "<p>From the above graph I see that the accucary is high when my lambda is 0, decreases when lambda increases and then stays constant as my lambda value varies.</p>"
   ]
  }
 ],
 "metadata": {
  "kernelspec": {
   "display_name": "Python 3",
   "language": "python",
   "name": "python3"
  },
  "language_info": {
   "codemirror_mode": {
    "name": "ipython",
    "version": 3
   },
   "file_extension": ".py",
   "mimetype": "text/x-python",
   "name": "python",
   "nbconvert_exporter": "python",
   "pygments_lexer": "ipython3",
   "version": "3.7.6"
  }
 },
 "nbformat": 4,
 "nbformat_minor": 4
}
